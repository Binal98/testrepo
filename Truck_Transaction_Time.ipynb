{
  "nbformat": 4,
  "nbformat_minor": 0,
  "metadata": {
    "colab": {
      "provenance": [],
      "authorship_tag": "ABX9TyMef71v/ZiE1dMjVIHxvAJz",
      "include_colab_link": true
    },
    "kernelspec": {
      "name": "python3",
      "display_name": "Python 3"
    },
    "language_info": {
      "name": "python"
    }
  },
  "cells": [
    {
      "cell_type": "markdown",
      "metadata": {
        "id": "view-in-github",
        "colab_type": "text"
      },
      "source": [
        "<a href=\"https://colab.research.google.com/github/Binal98/testrepo/blob/main/Truck_Transaction_Time.ipynb\" target=\"_parent\"><img src=\"https://colab.research.google.com/assets/colab-badge.svg\" alt=\"Open In Colab\"/></a>"
      ]
    },
    {
      "cell_type": "code",
      "source": [
        "import pandas as pd\n",
        "from google.colab import files\n",
        "\n",
        "# Upload Excel file\n",
        "uploaded = files.upload()"
      ],
      "metadata": {
        "colab": {
          "base_uri": "https://localhost:8080/",
          "height": 71
        },
        "id": "HxHyTirwMdj8",
        "outputId": "98728fb4-d79e-4fe1-8f1b-03992f466f9a"
      },
      "execution_count": null,
      "outputs": [
        {
          "output_type": "display_data",
          "data": {
            "text/plain": [
              "<IPython.core.display.HTML object>"
            ],
            "text/html": [
              "\n",
              "     <input type=\"file\" id=\"files-b6cda497-b4b1-483b-b4b5-af8c4f4ab22d\" name=\"files[]\" multiple disabled\n",
              "        style=\"border:none\" />\n",
              "     <output id=\"result-b6cda497-b4b1-483b-b4b5-af8c4f4ab22d\">\n",
              "      Upload widget is only available when the cell has been executed in the\n",
              "      current browser session. Please rerun this cell to enable.\n",
              "      </output>\n",
              "      <script>// Copyright 2017 Google LLC\n",
              "//\n",
              "// Licensed under the Apache License, Version 2.0 (the \"License\");\n",
              "// you may not use this file except in compliance with the License.\n",
              "// You may obtain a copy of the License at\n",
              "//\n",
              "//      http://www.apache.org/licenses/LICENSE-2.0\n",
              "//\n",
              "// Unless required by applicable law or agreed to in writing, software\n",
              "// distributed under the License is distributed on an \"AS IS\" BASIS,\n",
              "// WITHOUT WARRANTIES OR CONDITIONS OF ANY KIND, either express or implied.\n",
              "// See the License for the specific language governing permissions and\n",
              "// limitations under the License.\n",
              "\n",
              "/**\n",
              " * @fileoverview Helpers for google.colab Python module.\n",
              " */\n",
              "(function(scope) {\n",
              "function span(text, styleAttributes = {}) {\n",
              "  const element = document.createElement('span');\n",
              "  element.textContent = text;\n",
              "  for (const key of Object.keys(styleAttributes)) {\n",
              "    element.style[key] = styleAttributes[key];\n",
              "  }\n",
              "  return element;\n",
              "}\n",
              "\n",
              "// Max number of bytes which will be uploaded at a time.\n",
              "const MAX_PAYLOAD_SIZE = 100 * 1024;\n",
              "\n",
              "function _uploadFiles(inputId, outputId) {\n",
              "  const steps = uploadFilesStep(inputId, outputId);\n",
              "  const outputElement = document.getElementById(outputId);\n",
              "  // Cache steps on the outputElement to make it available for the next call\n",
              "  // to uploadFilesContinue from Python.\n",
              "  outputElement.steps = steps;\n",
              "\n",
              "  return _uploadFilesContinue(outputId);\n",
              "}\n",
              "\n",
              "// This is roughly an async generator (not supported in the browser yet),\n",
              "// where there are multiple asynchronous steps and the Python side is going\n",
              "// to poll for completion of each step.\n",
              "// This uses a Promise to block the python side on completion of each step,\n",
              "// then passes the result of the previous step as the input to the next step.\n",
              "function _uploadFilesContinue(outputId) {\n",
              "  const outputElement = document.getElementById(outputId);\n",
              "  const steps = outputElement.steps;\n",
              "\n",
              "  const next = steps.next(outputElement.lastPromiseValue);\n",
              "  return Promise.resolve(next.value.promise).then((value) => {\n",
              "    // Cache the last promise value to make it available to the next\n",
              "    // step of the generator.\n",
              "    outputElement.lastPromiseValue = value;\n",
              "    return next.value.response;\n",
              "  });\n",
              "}\n",
              "\n",
              "/**\n",
              " * Generator function which is called between each async step of the upload\n",
              " * process.\n",
              " * @param {string} inputId Element ID of the input file picker element.\n",
              " * @param {string} outputId Element ID of the output display.\n",
              " * @return {!Iterable<!Object>} Iterable of next steps.\n",
              " */\n",
              "function* uploadFilesStep(inputId, outputId) {\n",
              "  const inputElement = document.getElementById(inputId);\n",
              "  inputElement.disabled = false;\n",
              "\n",
              "  const outputElement = document.getElementById(outputId);\n",
              "  outputElement.innerHTML = '';\n",
              "\n",
              "  const pickedPromise = new Promise((resolve) => {\n",
              "    inputElement.addEventListener('change', (e) => {\n",
              "      resolve(e.target.files);\n",
              "    });\n",
              "  });\n",
              "\n",
              "  const cancel = document.createElement('button');\n",
              "  inputElement.parentElement.appendChild(cancel);\n",
              "  cancel.textContent = 'Cancel upload';\n",
              "  const cancelPromise = new Promise((resolve) => {\n",
              "    cancel.onclick = () => {\n",
              "      resolve(null);\n",
              "    };\n",
              "  });\n",
              "\n",
              "  // Wait for the user to pick the files.\n",
              "  const files = yield {\n",
              "    promise: Promise.race([pickedPromise, cancelPromise]),\n",
              "    response: {\n",
              "      action: 'starting',\n",
              "    }\n",
              "  };\n",
              "\n",
              "  cancel.remove();\n",
              "\n",
              "  // Disable the input element since further picks are not allowed.\n",
              "  inputElement.disabled = true;\n",
              "\n",
              "  if (!files) {\n",
              "    return {\n",
              "      response: {\n",
              "        action: 'complete',\n",
              "      }\n",
              "    };\n",
              "  }\n",
              "\n",
              "  for (const file of files) {\n",
              "    const li = document.createElement('li');\n",
              "    li.append(span(file.name, {fontWeight: 'bold'}));\n",
              "    li.append(span(\n",
              "        `(${file.type || 'n/a'}) - ${file.size} bytes, ` +\n",
              "        `last modified: ${\n",
              "            file.lastModifiedDate ? file.lastModifiedDate.toLocaleDateString() :\n",
              "                                    'n/a'} - `));\n",
              "    const percent = span('0% done');\n",
              "    li.appendChild(percent);\n",
              "\n",
              "    outputElement.appendChild(li);\n",
              "\n",
              "    const fileDataPromise = new Promise((resolve) => {\n",
              "      const reader = new FileReader();\n",
              "      reader.onload = (e) => {\n",
              "        resolve(e.target.result);\n",
              "      };\n",
              "      reader.readAsArrayBuffer(file);\n",
              "    });\n",
              "    // Wait for the data to be ready.\n",
              "    let fileData = yield {\n",
              "      promise: fileDataPromise,\n",
              "      response: {\n",
              "        action: 'continue',\n",
              "      }\n",
              "    };\n",
              "\n",
              "    // Use a chunked sending to avoid message size limits. See b/62115660.\n",
              "    let position = 0;\n",
              "    do {\n",
              "      const length = Math.min(fileData.byteLength - position, MAX_PAYLOAD_SIZE);\n",
              "      const chunk = new Uint8Array(fileData, position, length);\n",
              "      position += length;\n",
              "\n",
              "      const base64 = btoa(String.fromCharCode.apply(null, chunk));\n",
              "      yield {\n",
              "        response: {\n",
              "          action: 'append',\n",
              "          file: file.name,\n",
              "          data: base64,\n",
              "        },\n",
              "      };\n",
              "\n",
              "      let percentDone = fileData.byteLength === 0 ?\n",
              "          100 :\n",
              "          Math.round((position / fileData.byteLength) * 100);\n",
              "      percent.textContent = `${percentDone}% done`;\n",
              "\n",
              "    } while (position < fileData.byteLength);\n",
              "  }\n",
              "\n",
              "  // All done.\n",
              "  yield {\n",
              "    response: {\n",
              "      action: 'complete',\n",
              "    }\n",
              "  };\n",
              "}\n",
              "\n",
              "scope.google = scope.google || {};\n",
              "scope.google.colab = scope.google.colab || {};\n",
              "scope.google.colab._files = {\n",
              "  _uploadFiles,\n",
              "  _uploadFilesContinue,\n",
              "};\n",
              "})(self);\n",
              "</script> "
            ]
          },
          "metadata": {}
        },
        {
          "output_type": "stream",
          "name": "stdout",
          "text": [
            "Saving Truck Transaction.xlsx to Truck Transaction (1).xlsx\n"
          ]
        }
      ]
    },
    {
      "cell_type": "code",
      "source": [
        "filename = list(uploaded.keys())[0]\n",
        "\n",
        "# Load the first sheet into a named DataFrame (e.g., df)\n",
        "df = pd.read_excel(filename)\n",
        "\n",
        "# Show first 10 rows\n",
        "print(\"📋 First 10 rows of the original dataset:\")\n",
        "print(df.head(10))"
      ],
      "metadata": {
        "colab": {
          "base_uri": "https://localhost:8080/"
        },
        "id": "P6GZBWX7MidT",
        "outputId": "5364a659-e672-4d7a-f1c0-ce3f9b323a70"
      },
      "execution_count": null,
      "outputs": [
        {
          "output_type": "stream",
          "name": "stdout",
          "text": [
            "📋 First 10 rows of the original dataset:\n",
            "   Number Transaction Type   Ctr Number Unit Category  \\\n",
            "0   40218   Deliver Import  HLBU3245927     Transship   \n",
            "1   40217   Deliver Import  FANU3188794     Transship   \n",
            "2   40216   Deliver Import  TCNU4995486     Transship   \n",
            "3   40213   Deliver Import  BMOU6327815     Transship   \n",
            "4   40212   Deliver Import  TCNU3164852     Transship   \n",
            "5   40211   Deliver Import  FFAU7000330     Transship   \n",
            "6   40210   Deliver Import  UETU6584367     Transship   \n",
            "7   40208   Deliver Import  YMMU1109251     Transship   \n",
            "8   40209   Deliver Import  UACU3783530     Transship   \n",
            "9   40207   Deliver Import  CMAU5647843     Transship   \n",
            "\n",
            "  Truck Visit Truck License Truck Visit Truck Visit Status         Gate  \\\n",
            "0                    LY5371                       COMPLETE  CWIT_GATE_M   \n",
            "1                    LY5185                       COMPLETE  CWIT_GATE_M   \n",
            "2                    LY5367                       COMPLETE  CWIT_GATE_M   \n",
            "3                    LY5421                       COMPLETE  CWIT_GATE_M   \n",
            "4                    LY4110                       COMPLETE  CWIT_GATE_M   \n",
            "5                    LY5416                       COMPLETE  CWIT_GATE_M   \n",
            "6                    LY4187                       COMPLETE  CWIT_GATE_M   \n",
            "7                    LY3274                       COMPLETE  CWIT_GATE_M   \n",
            "8                    LY3274                       COMPLETE  CWIT_GATE_M   \n",
            "9                    LY4464                       COMPLETE  CWIT_GATE_M   \n",
            "\n",
            "  Stage ID    Status   Creator  ... Unit ECIN status Unit DO expiry date Flip  \\\n",
            "0  outgate  COMPLETE  DilushaP  ...             ECIN                 NaN  NaN   \n",
            "1  outgate  COMPLETE  DilushaP  ...             ECIN                 NaN  NaN   \n",
            "2  outgate  COMPLETE  DilushaP  ...             ECIN                 NaN  NaN   \n",
            "3  outgate  COMPLETE  DilushaP  ...             ECIN                 NaN  NaN   \n",
            "4  outgate  COMPLETE  DilushaP  ...             ECIN                 NaN  NaN   \n",
            "5  outgate  COMPLETE  DilushaP  ...             ECIN                 NaN  NaN   \n",
            "6  outgate  COMPLETE  DilushaP  ...             ECIN                 NaN  NaN   \n",
            "7  outgate  COMPLETE  DilushaP  ...             ECIN                 NaN  NaN   \n",
            "8  outgate  COMPLETE  DilushaP  ...             ECIN                 NaN  NaN   \n",
            "9  outgate  COMPLETE  DilushaP  ...             ECIN                 NaN  NaN   \n",
            "\n",
            "  Truck Visit Entered Yard         Handled Truck Visit Exited Yard   Column1  \\\n",
            "0           25-Jun-30 1357  25-Jun-30 1401          25-Jun-30 1407  13:57:00   \n",
            "1           25-Jun-30 1356  25-Jun-30 1402          25-Jun-30 1405  13:56:00   \n",
            "2           25-Jun-30 1351  25-Jun-30 1356          25-Jun-30 1400  13:51:00   \n",
            "3           25-Jun-30 1346  25-Jun-30 1354          25-Jun-30 1358  13:46:00   \n",
            "4           25-Jun-30 1340  25-Jun-30 1350          25-Jun-30 1354  13:40:00   \n",
            "5           25-Jun-30 1339  25-Jun-30 1347          25-Jun-30 1352  13:39:00   \n",
            "6           25-Jun-30 1333  25-Jun-30 1339          25-Jun-30 1343  13:33:00   \n",
            "7           25-Jun-30 1332  25-Jun-30 1344          25-Jun-30 1350  13:32:00   \n",
            "8           25-Jun-30 1332  25-Jun-30 1339          25-Jun-30 1350  13:32:00   \n",
            "9           25-Jun-30 1330  25-Jun-30 1337          25-Jun-30 1342  13:30:00   \n",
            "\n",
            "    Column2   Column3   Column4  \n",
            "0  14:01:00  14:07:00  00:10:00  \n",
            "1  14:02:00  14:05:00  00:09:00  \n",
            "2  13:56:00  14:00:00  00:09:00  \n",
            "3  13:54:00  13:58:00  00:12:00  \n",
            "4  13:50:00  13:54:00  00:14:00  \n",
            "5  13:47:00  13:52:00  00:13:00  \n",
            "6  13:39:00  13:43:00  00:10:00  \n",
            "7  13:44:00  13:50:00  00:18:00  \n",
            "8  13:39:00  13:50:00  00:18:00  \n",
            "9  13:37:00  13:42:00  00:12:00  \n",
            "\n",
            "[10 rows x 30 columns]\n"
          ]
        }
      ]
    },
    {
      "cell_type": "code",
      "source": [
        "# Strip whitespace from column headers\n",
        "df.columns = df.columns.str.strip()\n",
        "\n",
        "# Show column names\n",
        "print(\"\\n🧹 Cleaned column names:\")\n",
        "print(df.columns.tolist())"
      ],
      "metadata": {
        "colab": {
          "base_uri": "https://localhost:8080/"
        },
        "id": "0CMGHXCQqPI6",
        "outputId": "498751df-115c-4368-9daa-c7d2af80ed4d"
      },
      "execution_count": null,
      "outputs": [
        {
          "output_type": "stream",
          "name": "stdout",
          "text": [
            "\n",
            "🧹 Cleaned column names:\n",
            "['Number', 'Transaction Type', 'Ctr Number', 'Unit Category', 'Truck Visit Truck License', 'Truck Visit Truck Visit Status', 'Gate', 'Stage ID', 'Status', 'Creator', 'Changer', 'Unit ITT Carrier', 'Unit CDN Nbr', 'Unit Terminal', 'Unit ITT Group', 'Unit Is Billable Weight?', 'Unit Consignee TIN', 'Unit FLIP_DONE', 'Unit ITT Carrier Name', 'Unit Booking NBR', 'Unit ECIN status', 'Unit DO expiry date', 'Flip', 'Truck Visit Entered Yard', 'Handled', 'Truck Visit Exited Yard', 'Column1', 'Column2', 'Column3', 'Column4']\n"
          ]
        }
      ]
    },
    {
      "cell_type": "code",
      "source": [
        "# Convert to datetime and split\n",
        "df['Handled'] = pd.to_datetime(df['Handled'], format='%y-%b-%d %H%M', errors='coerce')\n",
        "df['Date'] = df['Handled'].dt.date\n",
        "df['Time'] = df['Handled'].dt.time\n",
        "\n",
        "# Remove original Handled column\n",
        "df.drop(columns=['Handled'], inplace=True)\n",
        "\n",
        "# Show updated first 10 rows\n",
        "print(\"\\n✅ First 10 rows with Date and Time separated:\")\n",
        "print(df.head(10))\n"
      ],
      "metadata": {
        "colab": {
          "base_uri": "https://localhost:8080/"
        },
        "id": "N1TF8Uv8qbeA",
        "outputId": "1b5c80c8-f4c5-4600-e163-f1126971d957"
      },
      "execution_count": null,
      "outputs": [
        {
          "output_type": "stream",
          "name": "stdout",
          "text": [
            "\n",
            "✅ First 10 rows with Date and Time separated:\n",
            "   Number Transaction Type   Ctr Number Unit Category  \\\n",
            "0   40218   Deliver Import  HLBU3245927     Transship   \n",
            "1   40217   Deliver Import  FANU3188794     Transship   \n",
            "2   40216   Deliver Import  TCNU4995486     Transship   \n",
            "3   40213   Deliver Import  BMOU6327815     Transship   \n",
            "4   40212   Deliver Import  TCNU3164852     Transship   \n",
            "5   40211   Deliver Import  FFAU7000330     Transship   \n",
            "6   40210   Deliver Import  UETU6584367     Transship   \n",
            "7   40208   Deliver Import  YMMU1109251     Transship   \n",
            "8   40209   Deliver Import  UACU3783530     Transship   \n",
            "9   40207   Deliver Import  CMAU5647843     Transship   \n",
            "\n",
            "  Truck Visit Truck License Truck Visit Truck Visit Status         Gate  \\\n",
            "0                    LY5371                       COMPLETE  CWIT_GATE_M   \n",
            "1                    LY5185                       COMPLETE  CWIT_GATE_M   \n",
            "2                    LY5367                       COMPLETE  CWIT_GATE_M   \n",
            "3                    LY5421                       COMPLETE  CWIT_GATE_M   \n",
            "4                    LY4110                       COMPLETE  CWIT_GATE_M   \n",
            "5                    LY5416                       COMPLETE  CWIT_GATE_M   \n",
            "6                    LY4187                       COMPLETE  CWIT_GATE_M   \n",
            "7                    LY3274                       COMPLETE  CWIT_GATE_M   \n",
            "8                    LY3274                       COMPLETE  CWIT_GATE_M   \n",
            "9                    LY4464                       COMPLETE  CWIT_GATE_M   \n",
            "\n",
            "  Stage ID    Status   Creator  ... Unit DO expiry date Flip  \\\n",
            "0  outgate  COMPLETE  DilushaP  ...                 NaN  NaN   \n",
            "1  outgate  COMPLETE  DilushaP  ...                 NaN  NaN   \n",
            "2  outgate  COMPLETE  DilushaP  ...                 NaN  NaN   \n",
            "3  outgate  COMPLETE  DilushaP  ...                 NaN  NaN   \n",
            "4  outgate  COMPLETE  DilushaP  ...                 NaN  NaN   \n",
            "5  outgate  COMPLETE  DilushaP  ...                 NaN  NaN   \n",
            "6  outgate  COMPLETE  DilushaP  ...                 NaN  NaN   \n",
            "7  outgate  COMPLETE  DilushaP  ...                 NaN  NaN   \n",
            "8  outgate  COMPLETE  DilushaP  ...                 NaN  NaN   \n",
            "9  outgate  COMPLETE  DilushaP  ...                 NaN  NaN   \n",
            "\n",
            "  Truck Visit Entered Yard Truck Visit Exited Yard   Column1   Column2  \\\n",
            "0           25-Jun-30 1357          25-Jun-30 1407  13:57:00  14:01:00   \n",
            "1           25-Jun-30 1356          25-Jun-30 1405  13:56:00  14:02:00   \n",
            "2           25-Jun-30 1351          25-Jun-30 1400  13:51:00  13:56:00   \n",
            "3           25-Jun-30 1346          25-Jun-30 1358  13:46:00  13:54:00   \n",
            "4           25-Jun-30 1340          25-Jun-30 1354  13:40:00  13:50:00   \n",
            "5           25-Jun-30 1339          25-Jun-30 1352  13:39:00  13:47:00   \n",
            "6           25-Jun-30 1333          25-Jun-30 1343  13:33:00  13:39:00   \n",
            "7           25-Jun-30 1332          25-Jun-30 1350  13:32:00  13:44:00   \n",
            "8           25-Jun-30 1332          25-Jun-30 1350  13:32:00  13:39:00   \n",
            "9           25-Jun-30 1330          25-Jun-30 1342  13:30:00  13:37:00   \n",
            "\n",
            "    Column3   Column4        Date      Time  \n",
            "0  14:07:00  00:10:00  2025-06-30  14:01:00  \n",
            "1  14:05:00  00:09:00  2025-06-30  14:02:00  \n",
            "2  14:00:00  00:09:00  2025-06-30  13:56:00  \n",
            "3  13:58:00  00:12:00  2025-06-30  13:54:00  \n",
            "4  13:54:00  00:14:00  2025-06-30  13:50:00  \n",
            "5  13:52:00  00:13:00  2025-06-30  13:47:00  \n",
            "6  13:43:00  00:10:00  2025-06-30  13:39:00  \n",
            "7  13:50:00  00:18:00  2025-06-30  13:44:00  \n",
            "8  13:50:00  00:18:00  2025-06-30  13:39:00  \n",
            "9  13:42:00  00:12:00  2025-06-30  13:37:00  \n",
            "\n",
            "[10 rows x 31 columns]\n"
          ]
        }
      ]
    },
    {
      "cell_type": "code",
      "source": [
        "# Install openpyxl (for Excel support if not installed)\n",
        "!pip install openpyxl\n",
        "\n",
        "# Export idle_df to Excel\n",
        "df.to_excel(\"Truck Transaction.xlsx\", index=False)\n",
        "\n",
        "# Download the file\n",
        "from google.colab import files\n",
        "files.download(\"Truck Transaction.xlsx\")"
      ],
      "metadata": {
        "colab": {
          "base_uri": "https://localhost:8080/",
          "height": 69
        },
        "id": "UPmyb1N6fbgA",
        "outputId": "9e1a6be4-7470-4b02-918d-4e382ff20c1e"
      },
      "execution_count": null,
      "outputs": [
        {
          "output_type": "stream",
          "name": "stdout",
          "text": [
            "Requirement already satisfied: openpyxl in /usr/local/lib/python3.11/dist-packages (3.1.5)\n",
            "Requirement already satisfied: et-xmlfile in /usr/local/lib/python3.11/dist-packages (from openpyxl) (2.0.0)\n"
          ]
        },
        {
          "output_type": "display_data",
          "data": {
            "text/plain": [
              "<IPython.core.display.Javascript object>"
            ],
            "application/javascript": [
              "\n",
              "    async function download(id, filename, size) {\n",
              "      if (!google.colab.kernel.accessAllowed) {\n",
              "        return;\n",
              "      }\n",
              "      const div = document.createElement('div');\n",
              "      const label = document.createElement('label');\n",
              "      label.textContent = `Downloading \"${filename}\": `;\n",
              "      div.appendChild(label);\n",
              "      const progress = document.createElement('progress');\n",
              "      progress.max = size;\n",
              "      div.appendChild(progress);\n",
              "      document.body.appendChild(div);\n",
              "\n",
              "      const buffers = [];\n",
              "      let downloaded = 0;\n",
              "\n",
              "      const channel = await google.colab.kernel.comms.open(id);\n",
              "      // Send a message to notify the kernel that we're ready.\n",
              "      channel.send({})\n",
              "\n",
              "      for await (const message of channel.messages) {\n",
              "        // Send a message to notify the kernel that we're ready.\n",
              "        channel.send({})\n",
              "        if (message.buffers) {\n",
              "          for (const buffer of message.buffers) {\n",
              "            buffers.push(buffer);\n",
              "            downloaded += buffer.byteLength;\n",
              "            progress.value = downloaded;\n",
              "          }\n",
              "        }\n",
              "      }\n",
              "      const blob = new Blob(buffers, {type: 'application/binary'});\n",
              "      const a = document.createElement('a');\n",
              "      a.href = window.URL.createObjectURL(blob);\n",
              "      a.download = filename;\n",
              "      div.appendChild(a);\n",
              "      a.click();\n",
              "      div.remove();\n",
              "    }\n",
              "  "
            ]
          },
          "metadata": {}
        },
        {
          "output_type": "display_data",
          "data": {
            "text/plain": [
              "<IPython.core.display.Javascript object>"
            ],
            "application/javascript": [
              "download(\"download_a0cc9917-6e73-4e77-bebb-580cec6c00d8\", \"Truck Transaction.xlsx\", 4836340)"
            ]
          },
          "metadata": {}
        }
      ]
    }
  ]
}