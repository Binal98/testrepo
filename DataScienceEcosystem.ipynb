{
 "cells": [
  {
   "cell_type": "markdown",
   "id": "8bfbdc53",
   "metadata": {},
   "source": [
    "# Data Science Tools and Ecosystem"
   ]
  },
  {
   "cell_type": "markdown",
   "id": "afe1c781",
   "metadata": {},
   "source": [
    "In this notebook, Data Science Tools and Ecosystem are summarized."
   ]
  },
  {
   "cell_type": "markdown",
   "id": "aa75c21f",
   "metadata": {},
   "source": [
    "<b>objectives:</b>\n",
    "<ul>\n",
    "    <li>Popular languages in data science</li>\n",
    "    <li>Commonly used libraries in Data science</li>\n",
    "    <li>Data Science tools</li>\n",
    "<ul>"
   ]
  },
  {
   "cell_type": "markdown",
   "id": "efc063af",
   "metadata": {},
   "source": [
    "some of the popular languages that Data Scientists use are:\n",
    "<ol>\n",
    "    <li>python\n",
    "    <li>R\n",
    "    <li>java\n",
    "<ol>"
   ]
  },
  {
   "cell_type": "markdown",
   "id": "b59cc4a8",
   "metadata": {},
   "source": [
    "Some of the commonly used libraries used by Data Scientists include:\n",
    "<ol>\n",
    "    <li>pandas\n",
    "    <li>numpy\n",
    "    <li>caret\n",
    "<ol>\n",
    "\n"
   ]
  },
  {
   "cell_type": "markdown",
   "id": "2fc8c445",
   "metadata": {},
   "source": [
    "|data science tools|\n",
    "|------------------|\n",
    "|python|\n",
    "|R|\n",
    "|Github|\n",
    "|Jupyter|"
   ]
  },
  {
   "cell_type": "markdown",
   "id": "78c30fe7",
   "metadata": {},
   "source": [
    "### Below are a few examples of evaluating arithmetic expressions in Python"
   ]
  },
  {
   "cell_type": "code",
   "execution_count": 1,
   "id": "df699dcf",
   "metadata": {},
   "outputs": [
    {
     "data": {
      "text/plain": [
       "17"
      ]
     },
     "execution_count": 1,
     "metadata": {},
     "output_type": "execute_result"
    }
   ],
   "source": [
    "#this is a simple arithmetic expression to multiply then add integers\n",
    "(3*4)+5"
   ]
  },
  {
   "cell_type": "code",
   "execution_count": 2,
   "id": "1c2379ed",
   "metadata": {},
   "outputs": [
    {
     "name": "stdout",
     "output_type": "stream",
     "text": [
      "3.3333333333333335\n"
     ]
    }
   ],
   "source": [
    "#This will convert 200 minutes to hours by diving by 60\n",
    "minutes= 200\n",
    "hours = minutes/60\n",
    "print(hours)"
   ]
  },
  {
   "cell_type": "markdown",
   "id": "fd4ec938",
   "metadata": {},
   "source": [
    "## Author\n",
    "\n",
    "Binal Omesha"
   ]
  }
 ],
 "metadata": {
  "kernelspec": {
   "display_name": "Python 3 (ipykernel)",
   "language": "python",
   "name": "python3"
  },
  "language_info": {
   "codemirror_mode": {
    "name": "ipython",
    "version": 3
   },
   "file_extension": ".py",
   "mimetype": "text/x-python",
   "name": "python",
   "nbconvert_exporter": "python",
   "pygments_lexer": "ipython3",
   "version": "3.10.9"
  }
 },
 "nbformat": 4,
 "nbformat_minor": 5
}
